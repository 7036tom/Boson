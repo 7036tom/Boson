{
 "cells": [
  {
   "cell_type": "markdown",
   "metadata": {},
   "source": [
    "Essai d'adaptation de la méthode XGBoost à l'arbre de décision"
   ]
  },
  {
   "cell_type": "code",
   "execution_count": 1,
   "metadata": {
    "collapsed": false
   },
   "outputs": [
    {
     "name": "stderr",
     "output_type": "stream",
     "text": [
      "/usr/local/lib/python2.7/dist-packages/IPython/core/interactiveshell.py:2902: DtypeWarning: Columns (0,1,2,3,4,5,6,7,8,9,10,11,12,13,14,15,16,17,18,19,20,21,22,23,24,25,26,27,28,29,30,31) have mixed types. Specify dtype option on import or set low_memory=False.\n",
      "  interactivity=interactivity, compiler=compiler, result=result)\n",
      "/usr/local/lib/python2.7/dist-packages/IPython/core/interactiveshell.py:2902: DtypeWarning: Columns (0,1,2,3,4,5,6,7,8,9,10,11,12,13,14,15,16,17,18,19,20,21,22,23,24,25,26,27,28,29,30) have mixed types. Specify dtype option on import or set low_memory=False.\n",
      "  interactivity=interactivity, compiler=compiler, result=result)\n"
     ]
    }
   ],
   "source": [
    "from sklearn import tree\n",
    " \n",
    "import pandas\n",
    "import numpy\n",
    "import math\n",
    "import xgboost\n",
    "from sklearn.metrics import accuracy_score\n",
    "    \n",
    "    \n",
    "dataframe_train = pandas.read_csv(\"training.csv\", header=None)\n",
    "dataset_train = dataframe_train.values\n",
    " \n",
    "dataframe_test = pandas.read_csv(\"test.csv\", header=None)\n",
    "dataset_test = dataframe_test.values\n"
   ]
  },
  {
   "cell_type": "code",
   "execution_count": 2,
   "metadata": {
    "collapsed": false
   },
   "outputs": [],
   "source": [
    "for i in range(250001):\n",
    "    if dataset_train [i,32]=='s':\n",
    "          dataset_train [i,32]='1'\n",
    "    else:\n",
    "         dataset_train [i,32]='0'"
   ]
  },
  {
   "cell_type": "code",
   "execution_count": 9,
   "metadata": {
    "collapsed": false,
    "scrolled": true
   },
   "outputs": [
    {
     "name": "stdout",
     "output_type": "stream",
     "text": [
      "(250001, 33)\n",
      "(550001, 31)\n"
     ]
    }
   ],
   "source": [
    "\n",
    "print dataset_train.shape\n",
    "print dataset_test.shape\n",
    "X_test = dataset_train[1:20001,:31].astype(float)\n",
    "Y_test = dataset_train[1:20001,32].astype(float)\n",
    "\n",
    "X_train = dataset_train[20001:250001,:31].astype(float)\n",
    "Y_train = dataset_train[20001:250001,32].astype(float)\n",
    "\n",
    "W = dataset_train[1:20001,31].astype(float)"
   ]
  },
  {
   "cell_type": "code",
   "execution_count": 4,
   "metadata": {
    "collapsed": false,
    "scrolled": true
   },
   "outputs": [
    {
     "data": {
      "text/plain": [
       "XGBClassifier(base_score=0.5, colsample_bylevel=1, colsample_bytree=1,\n",
       "       gamma=0, learning_rate=0.1, max_delta_step=0, max_depth=3,\n",
       "       min_child_weight=1, missing=None, n_estimators=100, nthread=-1,\n",
       "       objective='binary:logistic', reg_alpha=0, reg_lambda=1,\n",
       "       scale_pos_weight=1, seed=0, silent=True, subsample=1)"
      ]
     },
     "execution_count": 4,
     "metadata": {},
     "output_type": "execute_result"
    }
   ],
   "source": [
    "model = xgboost.XGBClassifier()\n",
    "model.fit(X_train, Y_train)\n"
   ]
  },
  {
   "cell_type": "code",
   "execution_count": 13,
   "metadata": {
    "collapsed": true
   },
   "outputs": [],
   "source": [
    "y_pred = model.predict(X_test)\n",
    "#predictions = [round(value) for value in y_pred]"
   ]
  },
  {
   "cell_type": "code",
   "execution_count": 17,
   "metadata": {
    "collapsed": false
   },
   "outputs": [
    {
     "name": "stdout",
     "output_type": "stream",
     "text": [
      "Accuracy: 83.16%\n"
     ]
    }
   ],
   "source": [
    "accuracy = accuracy_score(Y_test, y_pred)\n",
    "print(\"Accuracy: %.2f%%\" % (accuracy * 100.0))\n",
    "#Accuracy: 83.00% avec train=10000 et test=190000\n",
    "#Accuracy: 83.16% avec train=20000 et test=230000\n"
   ]
  },
  {
   "cell_type": "code",
   "execution_count": 15,
   "metadata": {
    "collapsed": false
   },
   "outputs": [],
   "source": [
    "cf=0.\n",
    "sf=0\n",
    "bf=0\n",
    "for i in range(len(X_test)):\n",
    "    if y_pred[i]== Y_test[i]:\n",
    "        cf+=1\n",
    "    if y_pred[i]==1:\n",
    "        if Y_test[i]==1:\n",
    "            sf= sf + W[i]\n",
    "        if Y_test[i]==0:\n",
    "            bf= bf + W[i]\n",
    "score_F=cf*100/len(X_test) \n",
    "radicandF = 2 *( (sf+bf+10) * math.log (1.0 + sf/(bf+10)) -sf)\n",
    "AMS_F = math.sqrt(radicandF)"
   ]
  },
  {
   "cell_type": "code",
   "execution_count": 16,
   "metadata": {
    "collapsed": false
   },
   "outputs": [
    {
     "name": "stdout",
     "output_type": "stream",
     "text": [
      "0.813687684172\n"
     ]
    }
   ],
   "source": [
    "print AMS_F\n",
    "#0.53731542554 avec train=10000 et test=190000\n",
    "#0.813687684172 avec train=20000 et test=230000"
   ]
  },
  {
   "cell_type": "code",
   "execution_count": null,
   "metadata": {
    "collapsed": true
   },
   "outputs": [],
   "source": []
  },
  {
   "cell_type": "code",
   "execution_count": null,
   "metadata": {
    "collapsed": true
   },
   "outputs": [],
   "source": []
  }
 ],
 "metadata": {
  "kernelspec": {
   "display_name": "Python 2",
   "language": "python",
   "name": "python2"
  },
  "language_info": {
   "codemirror_mode": {
    "name": "ipython",
    "version": 2
   },
   "file_extension": ".py",
   "mimetype": "text/x-python",
   "name": "python",
   "nbconvert_exporter": "python",
   "pygments_lexer": "ipython2",
   "version": "2.7.9"
  }
 },
 "nbformat": 4,
 "nbformat_minor": 0
}
